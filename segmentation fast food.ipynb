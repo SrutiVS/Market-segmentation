{
 "cells": [
  {
   "cell_type": "code",
   "execution_count": 87,
   "id": "094b40ef",
   "metadata": {},
   "outputs": [],
   "source": [
    "import numpy as np\n",
    "import pandas as pd\n",
    "import matplotlib.pyplot as plt\n",
    "import seaborn as sns"
   ]
  },
  {
   "cell_type": "code",
   "execution_count": 88,
   "id": "9ff551e8",
   "metadata": {},
   "outputs": [],
   "source": [
    "data=pd.read_csv(\"E:\\sruti\\internship feynn lab\\study\\mcdonalds.csv\")"
   ]
  },
  {
   "cell_type": "code",
   "execution_count": 7,
   "id": "a1f2cc45",
   "metadata": {},
   "outputs": [
    {
     "name": "stdout",
     "output_type": "stream",
     "text": [
      "     yummy convenient spicy fattening greasy fast cheap tasty expensive  \\\n",
      "0       No        Yes    No       Yes     No  Yes   Yes    No       Yes   \n",
      "1      Yes        Yes    No       Yes    Yes  Yes   Yes   Yes       Yes   \n",
      "2       No        Yes   Yes       Yes    Yes  Yes    No   Yes       Yes   \n",
      "3      Yes        Yes    No       Yes    Yes  Yes   Yes   Yes        No   \n",
      "4       No        Yes    No       Yes    Yes  Yes   Yes    No        No   \n",
      "...    ...        ...   ...       ...    ...  ...   ...   ...       ...   \n",
      "1448    No        Yes    No       Yes    Yes   No    No    No       Yes   \n",
      "1449   Yes        Yes    No       Yes     No   No   Yes   Yes        No   \n",
      "1450   Yes        Yes    No       Yes     No  Yes    No   Yes       Yes   \n",
      "1451   Yes        Yes    No        No     No  Yes   Yes   Yes        No   \n",
      "1452    No        Yes    No       Yes    Yes   No    No    No       Yes   \n",
      "\n",
      "     healthy disgusting          Like  Age      VisitFrequency  Gender  \n",
      "0         No         No            -3   61  Every three months  Female  \n",
      "1         No         No            +2   51  Every three months  Female  \n",
      "2        Yes         No            +1   62  Every three months  Female  \n",
      "3         No        Yes            +4   69         Once a week  Female  \n",
      "4        Yes         No            +2   49        Once a month    Male  \n",
      "...      ...        ...           ...  ...                 ...     ...  \n",
      "1448      No        Yes  I hate it!-5   47         Once a year    Male  \n",
      "1449     Yes         No            +2   36         Once a week  Female  \n",
      "1450      No         No            +3   52        Once a month  Female  \n",
      "1451     Yes         No            +4   41  Every three months    Male  \n",
      "1452      No        Yes            -3   30  Every three months    Male  \n",
      "\n",
      "[1453 rows x 15 columns]\n"
     ]
    }
   ],
   "source": [
    "print(data)"
   ]
  },
  {
   "cell_type": "code",
   "execution_count": 89,
   "id": "e407cf31",
   "metadata": {},
   "outputs": [],
   "source": [
    "data = data.replace({'yummy': {'Yes': 1, \n",
    "                                'No': 0}})"
   ]
  },
  {
   "cell_type": "code",
   "execution_count": 90,
   "id": "10070ef9",
   "metadata": {},
   "outputs": [],
   "source": [
    "data = data.replace({'convenient': {'Yes': 1, \n",
    "                                'No': 0}})\n",
    "data = data.replace({'spicy': {'Yes': 1, \n",
    "                                'No': 0}})\n",
    "data = data.replace({'fattening': {'Yes': 1, \n",
    "                                'No': 0}})\n",
    "data = data.replace({'greasy': {'Yes': 1, \n",
    "                                'No': 0}})\n",
    "data = data.replace({'fast': {'Yes': 1, \n",
    "                                'No': 0}})\n",
    "data = data.replace({'cheap': {'Yes': 1, \n",
    "                                'No': 0}})\n",
    "data = data.replace({'tasty': {'Yes': 1, \n",
    "                                'No': 0}})\n",
    "data = data.replace({'expensive': {'Yes': 1, \n",
    "                                'No': 0}})\n",
    "data = data.replace({'healthy': {'Yes': 1, \n",
    "                                'No': 0}})\n",
    "data = data.replace({'disgusting': {'Yes': 1, \n",
    "                                'No': 0}})"
   ]
  },
  {
   "cell_type": "code",
   "execution_count": 13,
   "id": "c3dfd8d6",
   "metadata": {},
   "outputs": [
    {
     "data": {
      "text/html": [
       "<div>\n",
       "<style scoped>\n",
       "    .dataframe tbody tr th:only-of-type {\n",
       "        vertical-align: middle;\n",
       "    }\n",
       "\n",
       "    .dataframe tbody tr th {\n",
       "        vertical-align: top;\n",
       "    }\n",
       "\n",
       "    .dataframe thead th {\n",
       "        text-align: right;\n",
       "    }\n",
       "</style>\n",
       "<table border=\"1\" class=\"dataframe\">\n",
       "  <thead>\n",
       "    <tr style=\"text-align: right;\">\n",
       "      <th></th>\n",
       "      <th>yummy</th>\n",
       "      <th>convenient</th>\n",
       "      <th>spicy</th>\n",
       "      <th>fattening</th>\n",
       "      <th>greasy</th>\n",
       "      <th>fast</th>\n",
       "      <th>cheap</th>\n",
       "      <th>tasty</th>\n",
       "      <th>expensive</th>\n",
       "      <th>healthy</th>\n",
       "      <th>disgusting</th>\n",
       "      <th>Like</th>\n",
       "      <th>Age</th>\n",
       "      <th>VisitFrequency</th>\n",
       "      <th>Gender</th>\n",
       "    </tr>\n",
       "  </thead>\n",
       "  <tbody>\n",
       "    <tr>\n",
       "      <th>0</th>\n",
       "      <td>0</td>\n",
       "      <td>1</td>\n",
       "      <td>0</td>\n",
       "      <td>1</td>\n",
       "      <td>0</td>\n",
       "      <td>1</td>\n",
       "      <td>1</td>\n",
       "      <td>0</td>\n",
       "      <td>1</td>\n",
       "      <td>0</td>\n",
       "      <td>0</td>\n",
       "      <td>-3</td>\n",
       "      <td>61</td>\n",
       "      <td>Every three months</td>\n",
       "      <td>Female</td>\n",
       "    </tr>\n",
       "    <tr>\n",
       "      <th>1</th>\n",
       "      <td>1</td>\n",
       "      <td>1</td>\n",
       "      <td>0</td>\n",
       "      <td>1</td>\n",
       "      <td>1</td>\n",
       "      <td>1</td>\n",
       "      <td>1</td>\n",
       "      <td>1</td>\n",
       "      <td>1</td>\n",
       "      <td>0</td>\n",
       "      <td>0</td>\n",
       "      <td>+2</td>\n",
       "      <td>51</td>\n",
       "      <td>Every three months</td>\n",
       "      <td>Female</td>\n",
       "    </tr>\n",
       "    <tr>\n",
       "      <th>2</th>\n",
       "      <td>0</td>\n",
       "      <td>1</td>\n",
       "      <td>1</td>\n",
       "      <td>1</td>\n",
       "      <td>1</td>\n",
       "      <td>1</td>\n",
       "      <td>0</td>\n",
       "      <td>1</td>\n",
       "      <td>1</td>\n",
       "      <td>1</td>\n",
       "      <td>0</td>\n",
       "      <td>+1</td>\n",
       "      <td>62</td>\n",
       "      <td>Every three months</td>\n",
       "      <td>Female</td>\n",
       "    </tr>\n",
       "    <tr>\n",
       "      <th>3</th>\n",
       "      <td>1</td>\n",
       "      <td>1</td>\n",
       "      <td>0</td>\n",
       "      <td>1</td>\n",
       "      <td>1</td>\n",
       "      <td>1</td>\n",
       "      <td>1</td>\n",
       "      <td>1</td>\n",
       "      <td>0</td>\n",
       "      <td>0</td>\n",
       "      <td>1</td>\n",
       "      <td>+4</td>\n",
       "      <td>69</td>\n",
       "      <td>Once a week</td>\n",
       "      <td>Female</td>\n",
       "    </tr>\n",
       "    <tr>\n",
       "      <th>4</th>\n",
       "      <td>0</td>\n",
       "      <td>1</td>\n",
       "      <td>0</td>\n",
       "      <td>1</td>\n",
       "      <td>1</td>\n",
       "      <td>1</td>\n",
       "      <td>1</td>\n",
       "      <td>0</td>\n",
       "      <td>0</td>\n",
       "      <td>1</td>\n",
       "      <td>0</td>\n",
       "      <td>+2</td>\n",
       "      <td>49</td>\n",
       "      <td>Once a month</td>\n",
       "      <td>Male</td>\n",
       "    </tr>\n",
       "  </tbody>\n",
       "</table>\n",
       "</div>"
      ],
      "text/plain": [
       "   yummy  convenient  spicy  fattening  greasy  fast  cheap  tasty  expensive  \\\n",
       "0      0           1      0          1       0     1      1      0          1   \n",
       "1      1           1      0          1       1     1      1      1          1   \n",
       "2      0           1      1          1       1     1      0      1          1   \n",
       "3      1           1      0          1       1     1      1      1          0   \n",
       "4      0           1      0          1       1     1      1      0          0   \n",
       "\n",
       "   healthy  disgusting Like  Age      VisitFrequency  Gender  \n",
       "0        0           0   -3   61  Every three months  Female  \n",
       "1        0           0   +2   51  Every three months  Female  \n",
       "2        1           0   +1   62  Every three months  Female  \n",
       "3        0           1   +4   69         Once a week  Female  \n",
       "4        1           0   +2   49        Once a month    Male  "
      ]
     },
     "execution_count": 13,
     "metadata": {},
     "output_type": "execute_result"
    }
   ],
   "source": [
    "data.head()"
   ]
  },
  {
   "cell_type": "code",
   "execution_count": 91,
   "id": "1e438b85",
   "metadata": {},
   "outputs": [
    {
     "name": "stderr",
     "output_type": "stream",
     "text": [
      "C:\\Users\\User\\AppData\\Local\\Temp/ipykernel_5108/2751678127.py:1: FutureWarning: Dropping of nuisance columns in DataFrame reductions (with 'numeric_only=None') is deprecated; in a future version this will raise TypeError.  Select only valid columns before calling the reduction.\n",
      "  data[:8].mean()\n"
     ]
    },
    {
     "data": {
      "text/plain": [
       "yummy          0.625\n",
       "convenient     1.000\n",
       "spicy          0.250\n",
       "fattening      1.000\n",
       "greasy         0.625\n",
       "fast           1.000\n",
       "cheap          0.750\n",
       "tasty          0.750\n",
       "expensive      0.500\n",
       "healthy        0.375\n",
       "disgusting     0.125\n",
       "Age           53.250\n",
       "dtype: float64"
      ]
     },
     "execution_count": 91,
     "metadata": {},
     "output_type": "execute_result"
    }
   ],
   "source": [
    "data[:8].mean()"
   ]
  },
  {
   "cell_type": "code",
   "execution_count": 92,
   "id": "8b7cd85b",
   "metadata": {},
   "outputs": [
    {
     "name": "stderr",
     "output_type": "stream",
     "text": [
      "C:\\Users\\User\\AppData\\Local\\Temp/ipykernel_5108/4007405526.py:1: FutureWarning: Dropping of nuisance columns in DataFrame reductions (with 'numeric_only=None') is deprecated; in a future version this will raise TypeError.  Select only valid columns before calling the reduction.\n",
      "  data[:8].std()\n"
     ]
    },
    {
     "data": {
      "text/plain": [
       "yummy          0.517549\n",
       "convenient     0.000000\n",
       "spicy          0.462910\n",
       "fattening      0.000000\n",
       "greasy         0.517549\n",
       "fast           0.000000\n",
       "cheap          0.462910\n",
       "tasty          0.462910\n",
       "expensive      0.534522\n",
       "healthy        0.517549\n",
       "disgusting     0.353553\n",
       "Age           13.802174\n",
       "dtype: float64"
      ]
     },
     "execution_count": 92,
     "metadata": {},
     "output_type": "execute_result"
    }
   ],
   "source": [
    "data[:8].std()"
   ]
  },
  {
   "cell_type": "code",
   "execution_count": 93,
   "id": "1020dae5",
   "metadata": {},
   "outputs": [],
   "source": [
    "X = data.iloc[: , 0:11].values  "
   ]
  },
  {
   "cell_type": "code",
   "execution_count": 94,
   "id": "53988e41",
   "metadata": {},
   "outputs": [
    {
     "name": "stdout",
     "output_type": "stream",
     "text": [
      "[[0 1 0 ... 1 0 0]\n",
      " [1 1 0 ... 1 0 0]\n",
      " [0 1 1 ... 1 1 0]\n",
      " ...\n",
      " [1 1 0 ... 1 0 0]\n",
      " [1 1 0 ... 0 1 0]\n",
      " [0 1 0 ... 1 0 1]]\n"
     ]
    }
   ],
   "source": [
    "print(X)"
   ]
  },
  {
   "cell_type": "code",
   "execution_count": 31,
   "id": "ffdc6a18",
   "metadata": {},
   "outputs": [
    {
     "data": {
      "text/plain": [
       "(1453, 11)"
      ]
     },
     "execution_count": 31,
     "metadata": {},
     "output_type": "execute_result"
    }
   ],
   "source": [
    "X.shape"
   ]
  },
  {
   "cell_type": "code",
   "execution_count": 107,
   "id": "8d3a3761",
   "metadata": {},
   "outputs": [
    {
     "data": {
      "text/plain": [
       "<AxesSubplot:>"
      ]
     },
     "execution_count": 107,
     "metadata": {},
     "output_type": "execute_result"
    },
    {
     "data": {
      "image/png": "[encoded data removed]",
      "text/plain": [
       "<Figure size 432x288 with 2 Axes>"
      ]
     },
     "metadata": {
      "needs_background": "light"
     },
     "output_type": "display_data"
    }
   ],
   "source": [
    "sns.heatmap(data.corr(), annot=True)"
   ]
  },
  {
   "cell_type": "code",
   "execution_count": 95,
   "id": "bf73a431",
   "metadata": {},
   "outputs": [],
   "source": [
    "from sklearn.decomposition import PCA\n",
    "pca_data = PCA(n_components=11)\n",
    "principalComponents_data = pca_data.fit_transform(X)"
   ]
  },
  {
   "cell_type": "code",
   "execution_count": 96,
   "id": "7b836ddf",
   "metadata": {},
   "outputs": [],
   "source": [
    "principal_data_Df = pd.DataFrame(data = principalComponents_data\n",
    "             , columns = ['principal component 1', 'principal component 2','principal component 3',\n",
    "                          'principal component 4','principal component 5'\n",
    "                         ,'principal component 6','principal component 7','principal component 8','principal component 9',\n",
    "                        'principal component 10','principal component 11'\n",
    "                         ])"
   ]
  },
  {
   "cell_type": "code",
   "execution_count": 38,
   "id": "ece61f1f",
   "metadata": {},
   "outputs": [
    {
     "data": {
      "text/html": [
       "<div>\n",
       "<style scoped>\n",
       "    .dataframe tbody tr th:only-of-type {\n",
       "        vertical-align: middle;\n",
       "    }\n",
       "\n",
       "    .dataframe tbody tr th {\n",
       "        vertical-align: top;\n",
       "    }\n",
       "\n",
       "    .dataframe thead th {\n",
       "        text-align: right;\n",
       "    }\n",
       "</style>\n",
       "<table border=\"1\" class=\"dataframe\">\n",
       "  <thead>\n",
       "    <tr style=\"text-align: right;\">\n",
       "      <th></th>\n",
       "      <th>principal component 1</th>\n",
       "      <th>principal component 2</th>\n",
       "      <th>principal component 3</th>\n",
       "      <th>principal component 4</th>\n",
       "      <th>principal component 5</th>\n",
       "      <th>principal component 6</th>\n",
       "      <th>principal component 7</th>\n",
       "      <th>principal component 8</th>\n",
       "      <th>principal component 9</th>\n",
       "      <th>principal component 10</th>\n",
       "      <th>principal component 11</th>\n",
       "    </tr>\n",
       "  </thead>\n",
       "  <tbody>\n",
       "    <tr>\n",
       "      <th>0</th>\n",
       "      <td>0.425367</td>\n",
       "      <td>-0.219079</td>\n",
       "      <td>0.663255</td>\n",
       "      <td>-0.401300</td>\n",
       "      <td>0.201705</td>\n",
       "      <td>-0.389767</td>\n",
       "      <td>-0.211982</td>\n",
       "      <td>0.163235</td>\n",
       "      <td>0.181007</td>\n",
       "      <td>0.515706</td>\n",
       "      <td>-0.567074</td>\n",
       "    </tr>\n",
       "    <tr>\n",
       "      <th>1</th>\n",
       "      <td>-0.218638</td>\n",
       "      <td>0.388190</td>\n",
       "      <td>-0.730827</td>\n",
       "      <td>-0.094724</td>\n",
       "      <td>0.044669</td>\n",
       "      <td>-0.086596</td>\n",
       "      <td>-0.095877</td>\n",
       "      <td>-0.034756</td>\n",
       "      <td>0.111476</td>\n",
       "      <td>0.493313</td>\n",
       "      <td>-0.500440</td>\n",
       "    </tr>\n",
       "    <tr>\n",
       "      <th>2</th>\n",
       "      <td>0.375415</td>\n",
       "      <td>0.730435</td>\n",
       "      <td>-0.122040</td>\n",
       "      <td>0.692262</td>\n",
       "      <td>0.839643</td>\n",
       "      <td>-0.687406</td>\n",
       "      <td>0.583112</td>\n",
       "      <td>0.364379</td>\n",
       "      <td>-0.322288</td>\n",
       "      <td>0.061759</td>\n",
       "      <td>0.242741</td>\n",
       "    </tr>\n",
       "    <tr>\n",
       "      <th>3</th>\n",
       "      <td>-0.172926</td>\n",
       "      <td>-0.352752</td>\n",
       "      <td>-0.843795</td>\n",
       "      <td>0.206998</td>\n",
       "      <td>-0.681415</td>\n",
       "      <td>-0.036133</td>\n",
       "      <td>-0.054284</td>\n",
       "      <td>-0.231477</td>\n",
       "      <td>-0.028003</td>\n",
       "      <td>-0.250678</td>\n",
       "      <td>-0.051034</td>\n",
       "    </tr>\n",
       "    <tr>\n",
       "      <th>4</th>\n",
       "      <td>0.187057</td>\n",
       "      <td>-0.807610</td>\n",
       "      <td>0.028537</td>\n",
       "      <td>0.548332</td>\n",
       "      <td>0.854074</td>\n",
       "      <td>-0.097305</td>\n",
       "      <td>-0.457043</td>\n",
       "      <td>0.171758</td>\n",
       "      <td>-0.074409</td>\n",
       "      <td>0.031897</td>\n",
       "      <td>0.082245</td>\n",
       "    </tr>\n",
       "    <tr>\n",
       "      <th>...</th>\n",
       "      <td>...</td>\n",
       "      <td>...</td>\n",
       "      <td>...</td>\n",
       "      <td>...</td>\n",
       "      <td>...</td>\n",
       "      <td>...</td>\n",
       "      <td>...</td>\n",
       "      <td>...</td>\n",
       "      <td>...</td>\n",
       "      <td>...</td>\n",
       "      <td>...</td>\n",
       "    </tr>\n",
       "    <tr>\n",
       "      <th>1448</th>\n",
       "      <td>1.550242</td>\n",
       "      <td>0.275031</td>\n",
       "      <td>-0.013737</td>\n",
       "      <td>0.200604</td>\n",
       "      <td>-0.145063</td>\n",
       "      <td>0.306575</td>\n",
       "      <td>-0.075308</td>\n",
       "      <td>0.345552</td>\n",
       "      <td>-0.136589</td>\n",
       "      <td>-0.432798</td>\n",
       "      <td>-0.456076</td>\n",
       "    </tr>\n",
       "    <tr>\n",
       "      <th>1449</th>\n",
       "      <td>-0.957339</td>\n",
       "      <td>0.014308</td>\n",
       "      <td>0.303843</td>\n",
       "      <td>0.444350</td>\n",
       "      <td>-0.133690</td>\n",
       "      <td>0.381804</td>\n",
       "      <td>-0.326432</td>\n",
       "      <td>0.878047</td>\n",
       "      <td>-0.304441</td>\n",
       "      <td>-0.247443</td>\n",
       "      <td>-0.193671</td>\n",
       "    </tr>\n",
       "    <tr>\n",
       "      <th>1450</th>\n",
       "      <td>-0.185894</td>\n",
       "      <td>1.062662</td>\n",
       "      <td>0.220857</td>\n",
       "      <td>-0.467643</td>\n",
       "      <td>-0.187757</td>\n",
       "      <td>-0.192703</td>\n",
       "      <td>-0.091597</td>\n",
       "      <td>-0.036576</td>\n",
       "      <td>0.038255</td>\n",
       "      <td>0.056518</td>\n",
       "      <td>-0.012800</td>\n",
       "    </tr>\n",
       "    <tr>\n",
       "      <th>1451</th>\n",
       "      <td>-1.182064</td>\n",
       "      <td>-0.038570</td>\n",
       "      <td>0.561561</td>\n",
       "      <td>0.701126</td>\n",
       "      <td>0.047645</td>\n",
       "      <td>0.193687</td>\n",
       "      <td>-0.027335</td>\n",
       "      <td>-0.339374</td>\n",
       "      <td>0.022267</td>\n",
       "      <td>-0.002573</td>\n",
       "      <td>-0.105316</td>\n",
       "    </tr>\n",
       "    <tr>\n",
       "      <th>1452</th>\n",
       "      <td>1.550242</td>\n",
       "      <td>0.275031</td>\n",
       "      <td>-0.013737</td>\n",
       "      <td>0.200604</td>\n",
       "      <td>-0.145063</td>\n",
       "      <td>0.306575</td>\n",
       "      <td>-0.075308</td>\n",
       "      <td>0.345552</td>\n",
       "      <td>-0.136589</td>\n",
       "      <td>-0.432798</td>\n",
       "      <td>-0.456076</td>\n",
       "    </tr>\n",
       "  </tbody>\n",
       "</table>\n",
       "<p>1453 rows × 11 columns</p>\n",
       "</div>"
      ],
      "text/plain": [
       "      principal component 1  principal component 2  principal component 3  \\\n",
       "0                  0.425367              -0.219079               0.663255   \n",
       "1                 -0.218638               0.388190              -0.730827   \n",
       "2                  0.375415               0.730435              -0.122040   \n",
       "3                 -0.172926              -0.352752              -0.843795   \n",
       "4                  0.187057              -0.807610               0.028537   \n",
       "...                     ...                    ...                    ...   \n",
       "1448               1.550242               0.275031              -0.013737   \n",
       "1449              -0.957339               0.014308               0.303843   \n",
       "1450              -0.185894               1.062662               0.220857   \n",
       "1451              -1.182064              -0.038570               0.561561   \n",
       "1452               1.550242               0.275031              -0.013737   \n",
       "\n",
       "      principal component 4  principal component 5  principal component 6  \\\n",
       "0                 -0.401300               0.201705              -0.389767   \n",
       "1                 -0.094724               0.044669              -0.086596   \n",
       "2                  0.692262               0.839643              -0.687406   \n",
       "3                  0.206998              -0.681415              -0.036133   \n",
       "4                  0.548332               0.854074              -0.097305   \n",
       "...                     ...                    ...                    ...   \n",
       "1448               0.200604              -0.145063               0.306575   \n",
       "1449               0.444350              -0.133690               0.381804   \n",
       "1450              -0.467643              -0.187757              -0.192703   \n",
       "1451               0.701126               0.047645               0.193687   \n",
       "1452               0.200604              -0.145063               0.306575   \n",
       "\n",
       "      principal component 7  principal component 8  principal component 9  \\\n",
       "0                 -0.211982               0.163235               0.181007   \n",
       "1                 -0.095877              -0.034756               0.111476   \n",
       "2                  0.583112               0.364379              -0.322288   \n",
       "3                 -0.054284              -0.231477              -0.028003   \n",
       "4                 -0.457043               0.171758              -0.074409   \n",
       "...                     ...                    ...                    ...   \n",
       "1448              -0.075308               0.345552              -0.136589   \n",
       "1449              -0.326432               0.878047              -0.304441   \n",
       "1450              -0.091597              -0.036576               0.038255   \n",
       "1451              -0.027335              -0.339374               0.022267   \n",
       "1452              -0.075308               0.345552              -0.136589   \n",
       "\n",
       "      principal component 10  principal component 11  \n",
       "0                   0.515706               -0.567074  \n",
       "1                   0.493313               -0.500440  \n",
       "2                   0.061759                0.242741  \n",
       "3                  -0.250678               -0.051034  \n",
       "4                   0.031897                0.082245  \n",
       "...                      ...                     ...  \n",
       "1448               -0.432798               -0.456076  \n",
       "1449               -0.247443               -0.193671  \n",
       "1450                0.056518               -0.012800  \n",
       "1451               -0.002573               -0.105316  \n",
       "1452               -0.432798               -0.456076  \n",
       "\n",
       "[1453 rows x 11 columns]"
      ]
     },
     "execution_count": 38,
     "metadata": {},
     "output_type": "execute_result"
    }
   ],
   "source": [
    "principal_data_Df"
   ]
  },
  {
   "cell_type": "code",
   "execution_count": 97,
   "id": "33d76ada",
   "metadata": {},
   "outputs": [
    {
     "name": "stdout",
     "output_type": "stream",
     "text": [
      "Explained variation per principal component: [0.29944723 0.19279721 0.13304535 0.08309578 0.05948052 0.05029956\n",
      " 0.0438491  0.03954779 0.0367609  0.03235329 0.02932326]\n"
     ]
    }
   ],
   "source": [
    "print('Explained variation per principal component: {}'.format(pca_data.explained_variance_ratio_))"
   ]
  },
  {
   "cell_type": "code",
   "execution_count": null,
   "id": "be415601",
   "metadata": {},
   "outputs": [],
   "source": []
  },
  {
   "cell_type": "code",
   "execution_count": 98,
   "id": "29b1682f",
   "metadata": {},
   "outputs": [],
   "source": [
    "from sklearn.cluster import KMeans\n",
    "kmeans = KMeans(n_clusters=8)\n",
    "kmeans.fit(X)\n",
    "y_kmeans = kmeans.predict(X)"
   ]
  },
  {
   "cell_type": "code",
   "execution_count": 43,
   "id": "db261338",
   "metadata": {},
   "outputs": [
    {
     "data": {
      "text/plain": [
       "array([[ 7.30593607e-01,  9.77168950e-01,  8.21917808e-02,\n",
       "         9.77168950e-01,  1.00000000e+00,  9.49771689e-01,\n",
       "         9.68036530e-01,  9.72602740e-01,  4.56621005e-03,\n",
       "         3.19634703e-02,  1.64383562e-01],\n",
       "       [ 7.98701299e-01,  9.67532468e-01,  7.14285714e-02,\n",
       "         7.98701299e-01,  0.00000000e+00,  8.70129870e-01,\n",
       "         2.22044605e-16,  9.67532468e-01,  8.05194805e-01,\n",
       "         2.40259740e-01,  3.89610390e-02],\n",
       "       [ 8.62068966e-03,  8.75000000e-01,  6.03448276e-02,\n",
       "         9.35344828e-01,  6.12068966e-01,  9.61206897e-01,\n",
       "         9.82758621e-01,  1.11022302e-16,  1.29310345e-02,\n",
       "         8.18965517e-02,  4.61206897e-01],\n",
       "       [ 8.88297872e-01,  9.52127660e-01,  1.80851064e-01,\n",
       "         9.68085106e-01,  1.00000000e+00,  8.72340426e-01,\n",
       "         1.70212766e-01,  9.41489362e-01,  8.82978723e-01,\n",
       "         1.70212766e-01,  1.75531915e-01],\n",
       "       [ 9.33333333e-01,  9.88888889e-01,  1.00000000e-01,\n",
       "         5.38888889e-01,  1.77777778e-01,  9.61111111e-01,\n",
       "         9.38888889e-01,  9.66666667e-01,  3.88888889e-02,\n",
       "         1.00000000e+00,  1.66666667e-02],\n",
       "       [ 2.42424242e-02,  5.81818182e-01,  8.48484848e-02,\n",
       "         9.57575758e-01,  8.48484848e-01,  7.15151515e-01,\n",
       "         8.48484848e-02,  9.69696970e-02,  8.96969697e-01,\n",
       "         2.42424242e-02,  1.00000000e+00],\n",
       "       [ 1.06796117e-01,  9.12621359e-01,  7.76699029e-02,\n",
       "         8.15533981e-01,  4.27184466e-01,  7.96116505e-01,\n",
       "         2.91262136e-02,  3.33066907e-16,  6.40776699e-01,\n",
       "         9.70873786e-02, -1.11022302e-16],\n",
       "       [ 7.92452830e-01,  9.71698113e-01,  8.96226415e-02,\n",
       "         8.72641509e-01,  0.00000000e+00,  9.71698113e-01,\n",
       "         1.00000000e+00,  9.76415094e-01,  2.35849057e-02,\n",
       "        -1.38777878e-16,  1.41509434e-02]])"
      ]
     },
     "execution_count": 43,
     "metadata": {},
     "output_type": "execute_result"
    }
   ],
   "source": [
    "kmeans.cluster_centers_ # Final location of centroid"
   ]
  },
  {
   "cell_type": "code",
   "execution_count": 99,
   "id": "1caf9326",
   "metadata": {},
   "outputs": [
    {
     "data": {
      "image/png": "[encoded data removed]",
      "text/plain": [
       "<Figure size 432x288 with 1 Axes>"
      ]
     },
     "metadata": {
      "needs_background": "light"
     },
     "output_type": "display_data"
    }
   ],
   "source": [
    "plt.scatter(X[:, 0], X[:, 1], c=y_kmeans, s=50, cmap='viridis')\n",
    "\n",
    "centers = kmeans.cluster_centers_\n",
    "plt.scatter(centers[:, 0], centers[:, 1], c='black', s=200, alpha=0.5);"
   ]
  },
  {
   "cell_type": "code",
   "execution_count": 46,
   "id": "9d921024",
   "metadata": {},
   "outputs": [
    {
     "data": {
      "text/plain": [
       "1453"
      ]
     },
     "execution_count": 46,
     "metadata": {},
     "output_type": "execute_result"
    }
   ],
   "source": [
    "len(y_kmeans)"
   ]
  },
  {
   "cell_type": "code",
   "execution_count": 49,
   "id": "71c459b9",
   "metadata": {},
   "outputs": [
    {
     "data": {
      "text/plain": [
       "-1183.6807205828313"
      ]
     },
     "execution_count": 49,
     "metadata": {},
     "output_type": "execute_result"
    }
   ],
   "source": [
    "kmeans.score(X)"
   ]
  },
  {
   "cell_type": "code",
   "execution_count": 50,
   "id": "feb1b473",
   "metadata": {},
   "outputs": [
    {
     "data": {
      "text/plain": [
       "1183.6807205828313"
      ]
     },
     "execution_count": 50,
     "metadata": {},
     "output_type": "execute_result"
    }
   ],
   "source": [
    "kmeans.inertia_"
   ]
  },
  {
   "cell_type": "code",
   "execution_count": 70,
   "id": "511d2a5d",
   "metadata": {},
   "outputs": [
    {
     "data": {
      "text/plain": [
       "9"
      ]
     },
     "execution_count": 70,
     "metadata": {},
     "output_type": "execute_result"
    }
   ],
   "source": [
    "kmeans.n_iter_ # Maximum number of iteration"
   ]
  },
  {
   "cell_type": "code",
   "execution_count": 100,
   "id": "68106254",
   "metadata": {},
   "outputs": [
    {
     "data": {
      "image/png": "[encoded data removed]",
      "text/plain": [
       "<Figure size 432x288 with 1 Axes>"
      ]
     },
     "metadata": {
      "needs_background": "light"
     },
     "output_type": "display_data"
    }
   ],
   "source": [
    "SSD = []\n",
    "K = range(1,10)\n",
    "for num_clusters in K :\n",
    " kmeans = KMeans(n_clusters=num_clusters)\n",
    " kmeans.fit(X)\n",
    " SSD.append(kmeans.inertia_)\n",
    "plt.plot(K,SSD)\n",
    "plt.xlabel(\"Values of K\") \n",
    "plt.ylabel(\"Sum of squared distances/Inertia\") \n",
    "plt.title(\"Optimal value of k\")\n",
    "plt.show()"
   ]
  },
  {
   "cell_type": "code",
   "execution_count": 109,
   "id": "4fee7551",
   "metadata": {},
   "outputs": [
    {
     "data": {
      "image/png": "[encoded data removed]",
      "text/plain": [
       "<Figure size 432x288 with 1 Axes>"
      ]
     },
     "metadata": {
      "needs_background": "light"
     },
     "output_type": "display_data"
    }
   ],
   "source": [
    "pca = PCA(n_components=4)\n",
    "principalComponents = pca.fit_transform(X)\n",
    "\n",
    "features = range(pca.n_components_)\n",
    "plt.bar(features, pca.explained_variance_ratio_, color='black')\n",
    "plt.xlabel('PCA features')\n",
    "plt.ylabel('variance %')\n",
    "plt.xticks(features)\n",
    "\n",
    "PCA_components = pd.DataFrame(principalComponents)\n",
    "   "
   ]
  },
  {
   "cell_type": "code",
   "execution_count": 110,
   "id": "5ff6033a",
   "metadata": {},
   "outputs": [
    {
     "data": {
      "image/png": "[encoded data removed]",
      "text/plain": [
       "<Figure size 432x288 with 1 Axes>"
      ]
     },
     "metadata": {
      "needs_background": "light"
     },
     "output_type": "display_data"
    }
   ],
   "source": [
    "ks = range(1, 10)\n",
    "inertias = []\n",
    "\n",
    "for k in ks:\n",
    "    model = KMeans(n_clusters=k)\n",
    "    model.fit(PCA_components.iloc[:,:2])\n",
    "    inertias.append(model.inertia_)\n",
    "\n",
    "plt.plot(ks, inertias, '-o', color='black')\n",
    "plt.xlabel('number of clusters, k')\n",
    "plt.ylabel('inertia')\n",
    "plt.xticks(ks)\n",
    "plt.show()"
   ]
  },
  {
   "cell_type": "code",
   "execution_count": 114,
   "id": "0ff89a9c",
   "metadata": {},
   "outputs": [
    {
     "data": {
      "text/html": [
       "<div>\n",
       "<style scoped>\n",
       "    .dataframe tbody tr th:only-of-type {\n",
       "        vertical-align: middle;\n",
       "    }\n",
       "\n",
       "    .dataframe tbody tr th {\n",
       "        vertical-align: top;\n",
       "    }\n",
       "\n",
       "    .dataframe thead th {\n",
       "        text-align: right;\n",
       "    }\n",
       "</style>\n",
       "<table border=\"1\" class=\"dataframe\">\n",
       "  <thead>\n",
       "    <tr style=\"text-align: right;\">\n",
       "      <th></th>\n",
       "      <th>yummy</th>\n",
       "      <th>convenient</th>\n",
       "      <th>spicy</th>\n",
       "      <th>fattening</th>\n",
       "      <th>greasy</th>\n",
       "      <th>fast</th>\n",
       "      <th>cheap</th>\n",
       "      <th>tasty</th>\n",
       "      <th>expensive</th>\n",
       "      <th>healthy</th>\n",
       "      <th>disgusting</th>\n",
       "      <th>Like</th>\n",
       "      <th>Age</th>\n",
       "      <th>VisitFrequency</th>\n",
       "      <th>Gender</th>\n",
       "      <th>cluster</th>\n",
       "    </tr>\n",
       "  </thead>\n",
       "  <tbody>\n",
       "    <tr>\n",
       "      <th>0</th>\n",
       "      <td>0</td>\n",
       "      <td>1</td>\n",
       "      <td>0</td>\n",
       "      <td>1</td>\n",
       "      <td>0</td>\n",
       "      <td>1</td>\n",
       "      <td>1</td>\n",
       "      <td>0</td>\n",
       "      <td>1</td>\n",
       "      <td>0</td>\n",
       "      <td>0</td>\n",
       "      <td>-3</td>\n",
       "      <td>61</td>\n",
       "      <td>Every three months</td>\n",
       "      <td>Female</td>\n",
       "      <td>2</td>\n",
       "    </tr>\n",
       "    <tr>\n",
       "      <th>1</th>\n",
       "      <td>1</td>\n",
       "      <td>1</td>\n",
       "      <td>0</td>\n",
       "      <td>1</td>\n",
       "      <td>1</td>\n",
       "      <td>1</td>\n",
       "      <td>1</td>\n",
       "      <td>1</td>\n",
       "      <td>1</td>\n",
       "      <td>0</td>\n",
       "      <td>0</td>\n",
       "      <td>+2</td>\n",
       "      <td>51</td>\n",
       "      <td>Every three months</td>\n",
       "      <td>Female</td>\n",
       "      <td>1</td>\n",
       "    </tr>\n",
       "    <tr>\n",
       "      <th>2</th>\n",
       "      <td>0</td>\n",
       "      <td>1</td>\n",
       "      <td>1</td>\n",
       "      <td>1</td>\n",
       "      <td>1</td>\n",
       "      <td>1</td>\n",
       "      <td>0</td>\n",
       "      <td>1</td>\n",
       "      <td>1</td>\n",
       "      <td>1</td>\n",
       "      <td>0</td>\n",
       "      <td>+1</td>\n",
       "      <td>62</td>\n",
       "      <td>Every three months</td>\n",
       "      <td>Female</td>\n",
       "      <td>1</td>\n",
       "    </tr>\n",
       "    <tr>\n",
       "      <th>3</th>\n",
       "      <td>1</td>\n",
       "      <td>1</td>\n",
       "      <td>0</td>\n",
       "      <td>1</td>\n",
       "      <td>1</td>\n",
       "      <td>1</td>\n",
       "      <td>1</td>\n",
       "      <td>1</td>\n",
       "      <td>0</td>\n",
       "      <td>0</td>\n",
       "      <td>1</td>\n",
       "      <td>+4</td>\n",
       "      <td>69</td>\n",
       "      <td>Once a week</td>\n",
       "      <td>Female</td>\n",
       "      <td>0</td>\n",
       "    </tr>\n",
       "    <tr>\n",
       "      <th>4</th>\n",
       "      <td>0</td>\n",
       "      <td>1</td>\n",
       "      <td>0</td>\n",
       "      <td>1</td>\n",
       "      <td>1</td>\n",
       "      <td>1</td>\n",
       "      <td>1</td>\n",
       "      <td>0</td>\n",
       "      <td>0</td>\n",
       "      <td>1</td>\n",
       "      <td>0</td>\n",
       "      <td>+2</td>\n",
       "      <td>49</td>\n",
       "      <td>Once a month</td>\n",
       "      <td>Male</td>\n",
       "      <td>2</td>\n",
       "    </tr>\n",
       "  </tbody>\n",
       "</table>\n",
       "</div>"
      ],
      "text/plain": [
       "   yummy  convenient  spicy  fattening  greasy  fast  cheap  tasty  expensive  \\\n",
       "0      0           1      0          1       0     1      1      0          1   \n",
       "1      1           1      0          1       1     1      1      1          1   \n",
       "2      0           1      1          1       1     1      0      1          1   \n",
       "3      1           1      0          1       1     1      1      1          0   \n",
       "4      0           1      0          1       1     1      1      0          0   \n",
       "\n",
       "   healthy  disgusting Like  Age      VisitFrequency  Gender  cluster  \n",
       "0        0           0   -3   61  Every three months  Female        2  \n",
       "1        0           0   +2   51  Every three months  Female        1  \n",
       "2        1           0   +1   62  Every three months  Female        1  \n",
       "3        0           1   +4   69         Once a week  Female        0  \n",
       "4        1           0   +2   49        Once a month    Male        2  "
      ]
     },
     "execution_count": 114,
     "metadata": {},
     "output_type": "execute_result"
    }
   ],
   "source": [
    "\n",
    "pred = model.predict(PCA_components.iloc[:,:2])\n",
    "frame = pd.DataFrame(data)\n",
    "frame['cluster'] = pred\n",
    "frame.head()"
   ]
  },
  {
   "cell_type": "code",
   "execution_count": 118,
   "id": "343a941d",
   "metadata": {},
   "outputs": [
    {
     "data": {
      "text/html": [
       "<div>\n",
       "<style scoped>\n",
       "    .dataframe tbody tr th:only-of-type {\n",
       "        vertical-align: middle;\n",
       "    }\n",
       "\n",
       "    .dataframe tbody tr th {\n",
       "        vertical-align: top;\n",
       "    }\n",
       "\n",
       "    .dataframe thead th {\n",
       "        text-align: right;\n",
       "    }\n",
       "</style>\n",
       "<table border=\"1\" class=\"dataframe\">\n",
       "  <thead>\n",
       "    <tr style=\"text-align: right;\">\n",
       "      <th></th>\n",
       "      <th>cluster</th>\n",
       "      <th>yummy</th>\n",
       "      <th>convenient</th>\n",
       "      <th>spicy</th>\n",
       "      <th>fattening</th>\n",
       "      <th>greasy</th>\n",
       "      <th>fast</th>\n",
       "      <th>cheap</th>\n",
       "      <th>tasty</th>\n",
       "      <th>expensive</th>\n",
       "      <th>healthy</th>\n",
       "      <th>disgusting</th>\n",
       "      <th>Age</th>\n",
       "    </tr>\n",
       "  </thead>\n",
       "  <tbody>\n",
       "    <tr>\n",
       "      <th>0</th>\n",
       "      <td>0</td>\n",
       "      <td>0.890311</td>\n",
       "      <td>0.981718</td>\n",
       "      <td>0.089580</td>\n",
       "      <td>0.787934</td>\n",
       "      <td>0.347349</td>\n",
       "      <td>0.963437</td>\n",
       "      <td>0.970750</td>\n",
       "      <td>0.983547</td>\n",
       "      <td>0.012797</td>\n",
       "      <td>0.336380</td>\n",
       "      <td>0.040219</td>\n",
       "      <td>43.475320</td>\n",
       "    </tr>\n",
       "    <tr>\n",
       "      <th>1</th>\n",
       "      <td>1</td>\n",
       "      <td>0.853521</td>\n",
       "      <td>0.966197</td>\n",
       "      <td>0.126761</td>\n",
       "      <td>0.895775</td>\n",
       "      <td>0.540845</td>\n",
       "      <td>0.864789</td>\n",
       "      <td>0.104225</td>\n",
       "      <td>0.909859</td>\n",
       "      <td>0.839437</td>\n",
       "      <td>0.211268</td>\n",
       "      <td>0.107042</td>\n",
       "      <td>40.408451</td>\n",
       "    </tr>\n",
       "    <tr>\n",
       "      <th>2</th>\n",
       "      <td>2</td>\n",
       "      <td>0.027523</td>\n",
       "      <td>0.886850</td>\n",
       "      <td>0.073394</td>\n",
       "      <td>0.917431</td>\n",
       "      <td>0.648318</td>\n",
       "      <td>0.941896</td>\n",
       "      <td>0.886850</td>\n",
       "      <td>0.174312</td>\n",
       "      <td>0.027523</td>\n",
       "      <td>0.067278</td>\n",
       "      <td>0.391437</td>\n",
       "      <td>48.941896</td>\n",
       "    </tr>\n",
       "    <tr>\n",
       "      <th>3</th>\n",
       "      <td>3</td>\n",
       "      <td>0.017857</td>\n",
       "      <td>0.665179</td>\n",
       "      <td>0.080357</td>\n",
       "      <td>0.941964</td>\n",
       "      <td>0.763393</td>\n",
       "      <td>0.741071</td>\n",
       "      <td>0.053571</td>\n",
       "      <td>0.080357</td>\n",
       "      <td>0.919643</td>\n",
       "      <td>0.035714</td>\n",
       "      <td>0.736607</td>\n",
       "      <td>47.683036</td>\n",
       "    </tr>\n",
       "  </tbody>\n",
       "</table>\n",
       "</div>"
      ],
      "text/plain": [
       "   cluster     yummy  convenient     spicy  fattening    greasy      fast  \\\n",
       "0        0  0.890311    0.981718  0.089580   0.787934  0.347349  0.963437   \n",
       "1        1  0.853521    0.966197  0.126761   0.895775  0.540845  0.864789   \n",
       "2        2  0.027523    0.886850  0.073394   0.917431  0.648318  0.941896   \n",
       "3        3  0.017857    0.665179  0.080357   0.941964  0.763393  0.741071   \n",
       "\n",
       "      cheap     tasty  expensive   healthy  disgusting        Age  \n",
       "0  0.970750  0.983547   0.012797  0.336380    0.040219  43.475320  \n",
       "1  0.104225  0.909859   0.839437  0.211268    0.107042  40.408451  \n",
       "2  0.886850  0.174312   0.027523  0.067278    0.391437  48.941896  \n",
       "3  0.053571  0.080357   0.919643  0.035714    0.736607  47.683036  "
      ]
     },
     "execution_count": 118,
     "metadata": {},
     "output_type": "execute_result"
    }
   ],
   "source": [
    "avg_df = data.groupby(['cluster'], as_index=False).mean()\n",
    "avg_df"
   ]
  },
  {
   "cell_type": "code",
   "execution_count": 125,
   "id": "3d5862ad",
   "metadata": {},
   "outputs": [
    {
     "data": {
      "image/png": "[encoded data removed]",
      "text/plain": [
       "<Figure size 720x504 with 1 Axes>"
      ]
     },
     "metadata": {
      "needs_background": "light"
     },
     "output_type": "display_data"
    }
   ],
   "source": [
    "import scipy.cluster.hierarchy as shc\n",
    "\n",
    "plt.figure(figsize=(10, 7))\n",
    "plt.title(\"Market segmentation\")\n",
    "dend = shc.dendrogram(shc.linkage(X, method='ward'))"
   ]
  },
  {
   "cell_type": "code",
   "execution_count": null,
   "id": "169058fd",
   "metadata": {},
   "outputs": [],
   "source": []
  }
 ],
 "metadata": {
  "kernelspec": {
   "display_name": "Python 3 (ipykernel)",
   "language": "python",
   "name": "python3"
  },
  "language_info": {
   "codemirror_mode": {
    "name": "ipython",
    "version": 3
   },
   "file_extension": ".py",
   "mimetype": "text/x-python",
   "name": "python",
   "nbconvert_exporter": "python",
   "pygments_lexer": "ipython3",
   "version": "3.9.7"
  }
 },
 "nbformat": 4,
 "nbformat_minor": 5
}
